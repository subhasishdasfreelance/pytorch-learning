{
 "cells": [
  {
   "cell_type": "code",
   "execution_count": 31,
   "id": "57feed6b",
   "metadata": {},
   "outputs": [],
   "source": [
    "import torch\n",
    "import torch.nn as nn\n",
    "import torch.optim as optim\n",
    "from sklearn.model_selection import train_test_split\n",
    "import matplotlib.pyplot as plt\n",
    "import os\n",
    "\n",
    "version = \"v1\"\n",
    "os.makedirs(version, exist_ok=True)\n",
    "data_prep = f\"{version}/data_preparation.py\"\n",
    "model_config = f\"{version}/model_config.py\"\n",
    "model_train = f\"{version}/model_training.py\""
   ]
  },
  {
   "cell_type": "code",
   "execution_count": 32,
   "id": "bc2bb061",
   "metadata": {},
   "outputs": [
    {
     "name": "stdout",
     "output_type": "stream",
     "text": [
      "Writing v1/data_preparation.py\n"
     ]
    }
   ],
   "source": [
    "%%writefile $data_prep\n",
    "device = \"cuda\" if torch.cuda.is_available() else \"cpu\"\n",
    "\n",
    "torch.manual_seed(42)\n",
    "\n",
    "w = torch.randn(1, device=device, requires_grad=True, dtype=torch.float)\n",
    "b = torch.randn(1, device=device, requires_grad=True, dtype=torch.float)\n",
    "\n",
    "print(\"real params\", b, w)\n",
    "\n",
    "x = torch.linspace(0, 1, 100).to(device)\n",
    "y = (w * x + b).detach()\n",
    "\n",
    "x_train, x_test, y_train, y_test = train_test_split(\n",
    "    x, y, test_size=0.2, random_state=42, shuffle=True\n",
    ")"
   ]
  },
  {
   "cell_type": "code",
   "execution_count": 33,
   "id": "92050ae9",
   "metadata": {},
   "outputs": [
    {
     "name": "stdout",
     "output_type": "stream",
     "text": [
      "Writing v1/model_config.py\n"
     ]
    }
   ],
   "source": [
    "%%writefile $model_config\n",
    "device = \"cuda\" if torch.cuda.is_available() else \"cpu\"\n",
    "\n",
    "torch.manual_seed(42)\n",
    "lr = 0.1\n",
    "\n",
    "def make_train_step(model, loss_fn, optimizer):\n",
    "    def perform_train_step(x, y):\n",
    "        model.train()\n",
    "        prediction = model(x.unsqueeze(1))\n",
    "        loss = loss_fn(prediction, y.unsqueeze(1))\n",
    "        optimizer.zero_grad()\n",
    "        loss.backward()\n",
    "        optimizer.step()\n",
    "        return loss.item()\n",
    "\n",
    "    return perform_train_step\n",
    "\n",
    "class Linear_regression_model_class(nn.Module):\n",
    "  def __init__(self):\n",
    "    super().__init__()\n",
    "    self.linear = torch.nn.Linear(1,1)\n",
    "\n",
    "  def forward(self, x):\n",
    "    return self.linear(x)\n",
    "\n",
    "model = Linear_regression_model_class().to(device)\n",
    "loss_fn = nn.MSELoss(reduction=\"mean\")\n",
    "optimizer = optim.Adam(model.parameters(), lr=lr)\n",
    "train_fn = make_train_step(model, loss_fn, optimizer)"
   ]
  },
  {
   "cell_type": "code",
   "execution_count": 34,
   "id": "fd53b53c",
   "metadata": {},
   "outputs": [
    {
     "name": "stdout",
     "output_type": "stream",
     "text": [
      "Writing v1/model_training.py\n"
     ]
    }
   ],
   "source": [
    "%%writefile $model_train\n",
    "epochs = 100\n",
    "losses = []\n",
    "\n",
    "for epoch in range(epochs):\n",
    "  loss = train_fn(x_train, y_train)\n",
    "  losses.append(loss)\n",
    "\n",
    "print(model.state_dict())\n",
    "\n",
    "# Assuming losses is a list or 1D tensor of loss values per epoch\n",
    "plt.plot(losses, label='Training Loss')\n",
    "plt.xlabel('Epoch')\n",
    "plt.ylabel('Loss')\n",
    "plt.title('Loss Curve')\n",
    "plt.legend()\n",
    "plt.grid(True)\n",
    "plt.show()"
   ]
  },
  {
   "cell_type": "code",
   "execution_count": 35,
   "id": "2a8ee764",
   "metadata": {},
   "outputs": [
    {
     "name": "stdout",
     "output_type": "stream",
     "text": [
      "real params tensor([0.1391], device='cuda:0', requires_grad=True) tensor([0.1940], device='cuda:0', requires_grad=True)\n",
      "OrderedDict({'linear.weight': tensor([[0.1966]], device='cuda:0'), 'linear.bias': tensor([0.1400], device='cuda:0')})\n"
     ]
    },
    {
     "data": {
      "image/png": "[encoded data removed]",
      "text/plain": [
       "<Figure size 640x480 with 1 Axes>"
      ]
     },
     "metadata": {},
     "output_type": "display_data"
    }
   ],
   "source": [
    "%run -i $data_prep\n",
    "%run -i $model_config\n",
    "%run -i $model_train"
   ]
  }
 ],
 "metadata": {
  "kernelspec": {
   "display_name": "pytorch_step_by_step",
   "language": "python",
   "name": "python3"
  },
  "language_info": {
   "codemirror_mode": {
    "name": "ipython",
    "version": 3
   },
   "file_extension": ".py",
   "mimetype": "text/x-python",
   "name": "python",
   "nbconvert_exporter": "python",
   "pygments_lexer": "ipython3",
   "version": "3.12.10"
  }
 },
 "nbformat": 4,
 "nbformat_minor": 5
}
