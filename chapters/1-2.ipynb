{
 "cells": [
  {
   "cell_type": "code",
   "execution_count": 1,
   "id": "57feed6b",
   "metadata": {},
   "outputs": [],
   "source": [
    "import torch\n",
    "import torch.nn as nn\n",
    "import torch.optim as optim\n",
    "from torch.utils.tensorboard import SummaryWriter\n",
    "from torch.utils.data import Dataset, DataLoader, random_split\n",
    "import os\n",
    "import sys\n",
    "writer = SummaryWriter(log_dir='runs/test')\n",
    "\n",
    "# Add the project root to sys.path\n",
    "sys.path.append(os.path.abspath(\"..\"))\n",
    "from chapters.utils import make_train_step, make_validation_step, mini_batch, plot_losses\n",
    "\n",
    "version = \"v2\"\n",
    "os.makedirs(version, exist_ok=True)\n",
    "data_prep = f\"{version}/data_preparation.py\"\n",
    "model_config = f\"{version}/model_config.py\"\n",
    "model_train = f\"{version}/model_training.py\""
   ]
  },
  {
   "cell_type": "code",
   "execution_count": 2,
   "id": "bc2bb061",
   "metadata": {},
   "outputs": [
    {
     "name": "stdout",
     "output_type": "stream",
     "text": [
      "Overwriting v2/data_preparation.py\n"
     ]
    }
   ],
   "source": [
    "%%writefile $data_prep\n",
    "device = \"cuda\" if torch.cuda.is_available() else \"cpu\"\n",
    "\n",
    "torch.manual_seed(42)\n",
    "\n",
    "class Custom_dataset(Dataset):\n",
    "    def __init__(self, features, labels):\n",
    "        self.x = features\n",
    "        self.y = labels\n",
    "\n",
    "    def __getitem__(self, index):\n",
    "        return (self.x[index], self.y[index])\n",
    "\n",
    "    def __len__(self):\n",
    "        return len(self.x)\n",
    "\n",
    "# w = torch.randn(1, device=device, requires_grad=True, dtype=torch.float)\n",
    "# b = torch.randn(1, device=device, requires_grad=True, dtype=torch.float)\n",
    "w = 0.5\n",
    "b = 1.2\n",
    "\n",
    "# x = torch.linspace(0, 1, 100).to(device)\n",
    "# this time not sending to gpu as we don't want to load the whole data in gpu memory\n",
    "x = torch.linspace(0, 1, 100)\n",
    "# y = (w * x + b).detach()\n",
    "y = (w * x + b)\n",
    "\n",
    "# x_train, x_test, y_train, y_test = train_test_split(\n",
    "#     x, y, test_size=0.2, random_state=42, shuffle=True\n",
    "# )\n",
    "\n",
    "dataset = Custom_dataset(x, y)\n",
    "\n",
    "n_train = int(len(dataset) * 0.8)\n",
    "n_val = len(dataset) - n_train\n",
    "\n",
    "train_data, validation_data = random_split(dataset=dataset, lengths=[n_train, n_val])\n",
    "\n",
    "train_loader = DataLoader(dataset=train_data, batch_size=16, shuffle=True)\n",
    "validation_loader = DataLoader(dataset=validation_data, batch_size=16, shuffle=True)\n"
   ]
  },
  {
   "cell_type": "code",
   "execution_count": 3,
   "id": "92050ae9",
   "metadata": {},
   "outputs": [
    {
     "name": "stdout",
     "output_type": "stream",
     "text": [
      "Overwriting v2/model_config.py\n"
     ]
    }
   ],
   "source": [
    "%%writefile $model_config\n",
    "device = \"cuda\" if torch.cuda.is_available() else \"cpu\"\n",
    "\n",
    "torch.manual_seed(42)\n",
    "lr = 0.1\n",
    "\n",
    "class Linear_regression_model_class(nn.Module):\n",
    "  def __init__(self):\n",
    "    super().__init__()\n",
    "    self.linear = torch.nn.Linear(1,1)\n",
    "\n",
    "  def forward(self, x):\n",
    "    return self.linear(x)\n",
    "\n",
    "model = Linear_regression_model_class().to(device)\n",
    "loss_fn = nn.MSELoss(reduction=\"mean\")\n",
    "optimizer = optim.Adam(model.parameters(), lr=lr)\n",
    "train_fn = make_train_step(model, loss_fn, optimizer)\n",
    "validation_fn = make_validation_step(model, loss_fn, optimizer)\n",
    "\n",
    "# in terminal write \"tensorboard --logdir=\"chapters/runs\"\" to run tensorboard\n",
    "dummy_x, dummy_y = next(iter(train_loader))\n",
    "writer.add_graph(model, dummy_x.unsqueeze(1).to(device))"
   ]
  },
  {
   "cell_type": "code",
   "execution_count": 4,
   "id": "fd53b53c",
   "metadata": {},
   "outputs": [
    {
     "name": "stdout",
     "output_type": "stream",
     "text": [
      "Overwriting v2/model_training.py\n"
     ]
    }
   ],
   "source": [
    "%%writefile $model_train\n",
    "epochs = 30\n",
    "train_losses = []\n",
    "validation_losses = []\n",
    "\n",
    "for epoch in range(epochs):\n",
    "  train_loss = mini_batch(device=device, dataloader=train_loader, step_fn=train_fn)\n",
    "  train_losses.append(train_loss)\n",
    "  with torch.no_grad():\n",
    "    validation_loss = mini_batch(device=device, dataloader=validation_loader, step_fn=validation_fn)\n",
    "    train_losses.append(train_loss)\n",
    "    validation_losses.append(validation_loss)\n",
    "\n",
    "  writer.add_scalars(global_step=epoch, main_tag=\"loss\", tag_scalar_dict={\n",
    "    \"training\": train_loss,\n",
    "    \"validation\": validation_loss\n",
    "  })\n",
    "\n",
    "writer.close()\n",
    "\n",
    "print(model.state_dict())\n",
    "\n",
    "plot_losses({\n",
    "  \"train loss\": train_losses,\n",
    "  \"validation loss\": validation_losses\n",
    "})\n",
    "\n",
    "checkpoint = {\n",
    "  \"model_state_dict\": model.state_dict(),\n",
    "  \"optimizer_state_dict\": optimizer.state_dict(),\n",
    "  \"train_losses\": train_losses,\n",
    "  \"validation_losses\": validation_losses,\n",
    "  \"epochs\": epochs\n",
    "}\n",
    "\n",
    "torch.save(checkpoint, f'model_checkpoint{version}.pth')"
   ]
  },
  {
   "cell_type": "code",
   "execution_count": 5,
   "id": "2a8ee764",
   "metadata": {},
   "outputs": [],
   "source": [
    "%run -i $data_prep\n",
    "%run -i $model_config\n",
    "# %run -i $model_train"
   ]
  },
  {
   "cell_type": "code",
   "execution_count": 10,
   "id": "817566ff",
   "metadata": {},
   "outputs": [
    {
     "name": "stdout",
     "output_type": "stream",
     "text": [
      "OrderedDict({'linear.weight': tensor([[0.5002]], device='cuda:0'), 'linear.bias': tensor([1.1999], device='cuda:0')})\n",
      "OrderedDict({'linear.weight': tensor([[0.5002]], device='cuda:0'), 'linear.bias': tensor([1.1999], device='cuda:0')})\n",
      "30\n",
      "tensor([[1.7001],\n",
      "        [2.2002],\n",
      "        [2.7004]], device='cuda:0', grad_fn=<AddmmBackward0>)\n"
     ]
    }
   ],
   "source": [
    "# checking that the model state_dict is random\n",
    "print(model.state_dict())\n",
    "\n",
    "# now loading the previously saved chekpoint\n",
    "checkpoint = torch.load(\"model_checkpointv2.pth\", weights_only=False)\n",
    "model.load_state_dict(checkpoint[\"model_state_dict\"])\n",
    "optimizer.load_state_dict(checkpoint[\"optimizer_state_dict\"])\n",
    "saved_training_losses = checkpoint[\"train_losses\"]\n",
    "saved_validation_losses = checkpoint[\"validation_losses\"]\n",
    "epochs = checkpoint[\"epochs\"]\n",
    "\n",
    "print(model.state_dict())\n",
    "print(epochs)\n",
    "\n",
    "# making predictions with the loaded model\n",
    "new_inputs = torch.tensor([1.0, 2.0, 3.0])\n",
    "model.eval()\n",
    "predictions = model(new_inputs.unsqueeze(1).to(device))\n",
    "print(predictions)"
   ]
  }
 ],
 "metadata": {
  "kernelspec": {
   "display_name": ".venv",
   "language": "python",
   "name": "python3"
  },
  "language_info": {
   "codemirror_mode": {
    "name": "ipython",
    "version": 3
   },
   "file_extension": ".py",
   "mimetype": "text/x-python",
   "name": "python",
   "nbconvert_exporter": "python",
   "pygments_lexer": "ipython3",
   "version": "3.12.10"
  }
 },
 "nbformat": 4,
 "nbformat_minor": 5
}
