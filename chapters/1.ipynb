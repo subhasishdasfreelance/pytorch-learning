{
 "cells": [
  {
   "cell_type": "code",
   "execution_count": 4,
   "id": "be2a8f91",
   "metadata": {},
   "outputs": [
    {
     "ename": "ModuleNotFoundError",
     "evalue": "No module named 'torchviz'",
     "output_type": "error",
     "traceback": [
      "\u001b[31m---------------------------------------------------------------------------\u001b[39m",
      "\u001b[31mModuleNotFoundError\u001b[39m                       Traceback (most recent call last)",
      "\u001b[36mCell\u001b[39m\u001b[36m \u001b[39m\u001b[32mIn[4]\u001b[39m\u001b[32m, line 6\u001b[39m\n\u001b[32m      4\u001b[39m \u001b[38;5;28;01mimport\u001b[39;00m\u001b[38;5;250m \u001b[39m\u001b[34;01mtorch\u001b[39;00m\u001b[34;01m.\u001b[39;00m\u001b[34;01moptim\u001b[39;00m\u001b[38;5;250m \u001b[39m\u001b[38;5;28;01mas\u001b[39;00m\u001b[38;5;250m \u001b[39m\u001b[34;01moptim\u001b[39;00m\n\u001b[32m      5\u001b[39m \u001b[38;5;28;01mimport\u001b[39;00m\u001b[38;5;250m \u001b[39m\u001b[34;01mtorch\u001b[39;00m\u001b[34;01m.\u001b[39;00m\u001b[34;01mnn\u001b[39;00m\u001b[38;5;250m \u001b[39m\u001b[38;5;28;01mas\u001b[39;00m\u001b[38;5;250m \u001b[39m\u001b[34;01mnn\u001b[39;00m\n\u001b[32m----> \u001b[39m\u001b[32m6\u001b[39m \u001b[38;5;28;01mfrom\u001b[39;00m\u001b[38;5;250m \u001b[39m\u001b[34;01mtorchviz\u001b[39;00m\u001b[38;5;250m \u001b[39m\u001b[38;5;28;01mimport\u001b[39;00m make_dot\n\u001b[32m      7\u001b[39m \u001b[38;5;28;01mimport\u001b[39;00m\u001b[38;5;250m \u001b[39m\u001b[34;01mmatplotlib\u001b[39;00m\u001b[34;01m.\u001b[39;00m\u001b[34;01mpyplot\u001b[39;00m\u001b[38;5;250m \u001b[39m\u001b[38;5;28;01mas\u001b[39;00m\u001b[38;5;250m \u001b[39m\u001b[34;01mplt\u001b[39;00m\n",
      "\u001b[31mModuleNotFoundError\u001b[39m: No module named 'torchviz'"
     ]
    }
   ],
   "source": [
    "import numpy as np\n",
    "from sklearn.linear_model import LinearRegression\n",
    "import torch\n",
    "import torch.optim as optim\n",
    "import torch.nn as nn\n",
    "from torchviz import make_dot\n",
    "import matplotlib.pyplot as plt"
   ]
  },
  {
   "cell_type": "code",
   "execution_count": null,
   "id": "7f4b4433",
   "metadata": {},
   "outputs": [],
   "source": [
    "# synthetic data generation with fancy indexes using numpy\n",
    "true_b = 1\n",
    "true_w = 2\n",
    "N = 100\n",
    "np.random.seed(42)\n",
    "x = np.random.rand(N, 1)\n",
    "epsilon = 0.1 * np.random.randn(N, 1)\n",
    "\n",
    "y = true_b + (true_w * x) + epsilon\n",
    "\n",
    "# now let's separate the train and validation data\n",
    "idx = np.arange(100)\n",
    "np.random.shuffle(idx)\n",
    "train_idx = idx[: int(0.8 * N)]\n",
    "val_idx = idx[int(0.8 * N) :]\n",
    "\n",
    "x_train, y_train = x[train_idx], y[train_idx]\n",
    "x_val, y_val = x[val_idx], y[val_idx]\n",
    "\n",
    "#  now plotting the data\n",
    "plt.scatter(x_train.flatten(), y_train.flatten(), marker=\"o\")\n",
    "plt.scatter(x_val.flatten(), y_val.flatten(), marker=\"o\")\n",
    "plt.title(\"X vs Y Scatter Plot\")\n",
    "plt.xlabel(\"X Values\")\n",
    "plt.ylabel(\"Y Values\")\n",
    "plt.grid(True)\n",
    "plt.show()"
   ]
  },
  {
   "cell_type": "code",
   "execution_count": null,
   "id": "cf7bcffd",
   "metadata": {},
   "outputs": [],
   "source": [
    "# initialize b and w to random values\n",
    "lr = 0.1\n",
    "np.random.seed(42)\n",
    "b = np.random.randn(1)\n",
    "w = np.random.randn(1)\n",
    "n_epoch = 1000\n",
    "\n",
    "for epoch in range(n_epoch):\n",
    "    # prediction and loss\n",
    "    y_hat = b + w * x_train\n",
    "    error = y_hat - y_train\n",
    "    loss = (error**2).mean()\n",
    "    # compute the partial derivatives of loss wrt b and w\n",
    "    b_grad = 2 * error.mean()\n",
    "    w_grad = 2 * (x_train * error).mean()\n",
    "\n",
    "    b = b - lr * b_grad\n",
    "    w = w - lr * w_grad\n",
    "\n",
    "print(b, w)\n",
    "\n",
    "x_range = np.linspace(-0, 1, 100)\n",
    "y_range = b + w * x_range\n",
    "\n",
    "plt.scatter(x_train.flatten(), y_train.flatten(), marker=\"o\")\n",
    "plt.scatter(x_val.flatten(), y_val.flatten(), marker=\"o\")\n",
    "plt.plot(x_range, y_range)\n",
    "plt.title(\"X vs Y Scatter Plot\")\n",
    "plt.xlabel(\"X Values\")\n",
    "plt.ylabel(\"Y Values\")\n",
    "plt.grid(True)\n",
    "plt.show()\n",
    "\n",
    "# checking if correct using scikit learn's linear regression function\n",
    "linr = LinearRegression()\n",
    "linr.fit(x_train, y_train)\n",
    "\n",
    "print(linr.intercept_, linr.coef_[0])"
   ]
  },
  {
   "cell_type": "code",
   "execution_count": null,
   "id": "1799b609",
   "metadata": {},
   "outputs": [],
   "source": [
    "# pytorch starting\n",
    "scalar = torch.tensor(123)\n",
    "vector = torch.tensor([1, 2, 3])\n",
    "matrix = torch.ones((2, 3), dtype=torch.float)\n",
    "tensor = torch.zeros((1, 2, 3), dtype=torch.float)\n",
    "\n",
    "print(scalar)\n",
    "print(vector)\n",
    "print(matrix)\n",
    "print(tensor)\n",
    "\n",
    "print(matrix.shape)"
   ]
  },
  {
   "cell_type": "code",
   "execution_count": null,
   "id": "fb572f5f",
   "metadata": {},
   "outputs": [],
   "source": [
    "matrix = torch.randn((2,3), dtype=torch.float32)\n",
    "matrix2 = matrix\n",
    "matrix2[0,1] = 200\n",
    "matrix3 = matrix.clone().detach()\n",
    "matrix[0,1] = 300\n",
    "print(matrix, matrix2, matrix3)\n",
    "\n",
    "x_train_tensor = torch.as_tensor(x_train)\n",
    "x_train_tensor.dtype"
   ]
  },
  {
   "cell_type": "code",
   "execution_count": null,
   "id": "bc51dbe8",
   "metadata": {},
   "outputs": [
    {
     "ename": "NameError",
     "evalue": "name 'torch' is not defined",
     "output_type": "error",
     "traceback": [
      "\u001b[31m---------------------------------------------------------------------------\u001b[39m",
      "\u001b[31mNameError\u001b[39m                                 Traceback (most recent call last)",
      "\u001b[36mCell\u001b[39m\u001b[36m \u001b[39m\u001b[32mIn[1]\u001b[39m\u001b[32m, line 2\u001b[39m\n\u001b[32m      1\u001b[39m \u001b[38;5;66;03m# gpu related code\u001b[39;00m\n\u001b[32m----> \u001b[39m\u001b[32m2\u001b[39m device = \u001b[33m\"\u001b[39m\u001b[33mcuda\u001b[39m\u001b[33m\"\u001b[39m \u001b[38;5;28;01mif\u001b[39;00m \u001b[43mtorch\u001b[49m.cuda.is_available() \u001b[38;5;28;01melse\u001b[39;00m \u001b[33m\"\u001b[39m\u001b[33mcpu\u001b[39m\u001b[33m\"\u001b[39m\n\u001b[32m      3\u001b[39m x_train_tensor = torch.as_tensor(x_train).float().to(device)\n\u001b[32m      4\u001b[39m y_train_tensor = torch.as_tensor(y_train).float().to(device)\n",
      "\u001b[31mNameError\u001b[39m: name 'torch' is not defined"
     ]
    }
   ],
   "source": [
    "# gpu related code\n",
    "device = \"cuda\" if torch.cuda.is_available() else \"cpu\"\n",
    "x_train_tensor = torch.as_tensor(x_train).float().to(device)\n",
    "y_train_tensor = torch.as_tensor(y_train).float().to(device)\n",
    "y_train_tensor.type(), device, torch.cuda.is_available()"
   ]
  }
 ],
 "metadata": {
  "kernelspec": {
   "display_name": ".venv",
   "language": "python",
   "name": "python3"
  },
  "language_info": {
   "codemirror_mode": {
    "name": "ipython",
    "version": 3
   },
   "file_extension": ".py",
   "mimetype": "text/x-python",
   "name": "python",
   "nbconvert_exporter": "python",
   "pygments_lexer": "ipython3",
   "version": "3.12.10"
  }
 },
 "nbformat": 4,
 "nbformat_minor": 5
}
